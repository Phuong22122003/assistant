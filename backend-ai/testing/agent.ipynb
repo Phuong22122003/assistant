{
 "cells": [
  {
   "cell_type": "code",
   "execution_count": null,
   "id": "36aa5dd1",
   "metadata": {},
   "outputs": [],
   "source": [
    "pip install langchain together google-api-python-client google-auth-httplib2 google-auth-oauthlib"
   ]
  },
  {
   "cell_type": "code",
   "execution_count": null,
   "id": "b45497d9",
   "metadata": {},
   "outputs": [],
   "source": [
    "%pip install --upgrade langchain-together"
   ]
  },
  {
   "cell_type": "code",
   "execution_count": 38,
   "id": "d0ae3429",
   "metadata": {},
   "outputs": [],
   "source": [
    "from langchain_together import ChatTogether\n",
    "from langchain.schema import HumanMessage\n",
    "import imaplib\n",
    "import email\n",
    "from email.header import decode_header\n",
    "import smtplib\n",
    "from email.mime.text import MIMEText\n",
    "import json\n"
   ]
  },
  {
   "cell_type": "code",
   "execution_count": 74,
   "id": "9aa38788",
   "metadata": {},
   "outputs": [],
   "source": [
    "api_key = 'f3b01991e5fcf24a0e024c67791f79a4f676aa55188df99925dafe784e82c9cf'\n",
    "app_password = 'exnv kcle cnfy sjgf'\n",
    "user_email = 'hnguyenphuong09@gmail.com'\n",
    "\n",
    "llm = ChatTogether(\n",
    "    together_api_key=api_key,\n",
    "    model=\"meta-llama/Llama-3.3-70B-Instruct-Turbo-Free\"  # hoặc bất kỳ model chat nào bạn chọn\n",
    ")\n"
   ]
  },
  {
   "cell_type": "code",
   "execution_count": 41,
   "id": "5338eea2",
   "metadata": {},
   "outputs": [],
   "source": [
    "def read_emails(dummy:None):\n",
    "    # Kết nối Gmail IMAP\n",
    "    mail = imaplib.IMAP4_SSL(\"imap.gmail.com\")\n",
    "    mail.login(user_email, app_password)\n",
    "    mail.select(\"inbox\")\n",
    "\n",
    "    status, messages = mail.search(None, 'ALL')\n",
    "    email_ids = messages[0].split()\n",
    "\n",
    "    emails = []\n",
    "    for eid in email_ids[-5:]:\n",
    "        status, data = mail.fetch(eid, \"(RFC822)\")\n",
    "        msg = email.message_from_bytes(data[0][1])\n",
    "        subject, encoding = decode_header(msg[\"Subject\"])[0]\n",
    "        if isinstance(subject, bytes):\n",
    "            subject = subject.decode(encoding or \"utf-8\", errors=\"ignore\")\n",
    "\n",
    "        body = \"\"\n",
    "        if msg.is_multipart():\n",
    "            for part in msg.walk():\n",
    "                if part.get_content_type() == \"text/plain\":\n",
    "                    body = part.get_payload(decode=True).decode(errors=\"ignore\")\n",
    "                    break\n",
    "        else:\n",
    "            body = msg.get_payload(decode=True).decode(errors=\"ignore\")\n",
    "\n",
    "        emails.append(f\"📨 Tiêu đề: {subject}\\n📩 Nội dung: {body[:200]}...\")  # Giới hạn nội dung\n",
    "\n",
    "    mail.logout()\n",
    "    return \"Đọc email thành công: Sau đây là danh sách email\" +'\\n\\n---\\n\\n'.join(reversed(emails))\n"
   ]
  },
  {
   "cell_type": "code",
   "execution_count": 5,
   "id": "7a9f9d63",
   "metadata": {},
   "outputs": [
    {
     "name": "stdout",
     "output_type": "stream",
     "text": [
      "📨 Tiêu đề: Security alert\n",
      "📩 Nội dung: [image: Google]\n",
      "App password created to sign in to your account\n",
      "\n",
      "\n",
      "hnguyenphuong09@gmail.com\n",
      "If you didn't generate this password for AI_agent, someone might be using\n",
      "your account. Check and secu...\n",
      "\n",
      "---\n",
      "\n",
      "📨 Tiêu đề: Security alert\n",
      "📩 Nội dung: [image: Google]\n",
      "App password used to sign in was removed\n",
      "\n",
      "\n",
      "hnguyenphuong09@gmail.com\n",
      "If you didn't remove this password, someone might be using your account.\n",
      "Check and secure your account now.\n",
      "...\n",
      "\n",
      "---\n",
      "\n",
      "📨 Tiêu đề: Security alert\n",
      "📩 Nội dung: [image: Google]\n",
      "App password used to sign in was removed\n",
      "\n",
      "\n",
      "hnguyenphuong09@gmail.com\n",
      "If you didn't remove this password, someone might be using your account.\n",
      "Check and secure your account now.\n",
      "...\n",
      "\n",
      "---\n",
      "\n",
      "📨 Tiêu đề: Security alert\n",
      "📩 Nội dung: [image: Google]\n",
      "App password used to sign in was removed\n",
      "\n",
      "\n",
      "hnguyenphuong09@gmail.com\n",
      "If you didn't remove this password, someone might be using your account.\n",
      "Check and secure your account now.\n",
      "...\n",
      "\n",
      "---\n",
      "\n",
      "📨 Tiêu đề: Security alert\n",
      "📩 Nội dung: [image: Google]\n",
      "App password used to sign in was removed\n",
      "\n",
      "\n",
      "hnguyenphuong09@gmail.com\n",
      "If you didn't remove this password, someone might be using your account.\n",
      "Check and secure your account now.\n",
      "...\n"
     ]
    }
   ],
   "source": [
    "print(read_emails(None))  # Test thủ công trước khi nhúng vào agent"
   ]
  },
  {
   "cell_type": "code",
   "execution_count": 56,
   "id": "459a27b6",
   "metadata": {},
   "outputs": [
    {
     "data": {
      "text/plain": [
       "''"
      ]
     },
     "execution_count": 56,
     "metadata": {},
     "output_type": "execute_result"
    }
   ],
   "source": [
    "''.lstrip()"
   ]
  },
  {
   "cell_type": "code",
   "execution_count": 65,
   "id": "ddcf7d69",
   "metadata": {},
   "outputs": [],
   "source": [
    "def send_email(input_string:str):\n",
    "    data = json.loads(input_string)\n",
    "    \n",
    "    to = data.get('to') or data.get('recipient')\n",
    "    to_list = [e.strip() for e in to.split(\",\")]  # Xử lý khoảng trắng\n",
    "    subject = data.get('subject')\n",
    "    body = data.get('body') or data.get('content')\n",
    "\n",
    "    msg = MIMEText(body, \"plain\", \"utf-8\")\n",
    "    msg[\"Subject\"] = subject\n",
    "    msg[\"From\"] = user_email\n",
    "    msg[\"To\"] = \", \".join(to_list)  # Hiển thị danh sách người nhận\n",
    "\n",
    "    with smtplib.SMTP(\"smtp.gmail.com\", 587) as server:\n",
    "        server.starttls()\n",
    "        server.login(user_email, app_password)\n",
    "        server.sendmail(user_email, to_list, msg.as_string())  # Gửi 1 lần cho tất cả\n",
    "\n",
    "    print(\"✅ Đã gửi email qua Gmail.\")\n",
    "\n",
    "    return f\"Đã gửi email email thành công tới người nhận {to} với nội dung {body}.\""
   ]
  },
  {
   "cell_type": "code",
   "execution_count": 8,
   "id": "2401af5f",
   "metadata": {},
   "outputs": [],
   "source": [
    "def create_calendar_event(summary: str, start_time: str, end_time: str):\n",
    "    from googleapiclient.discovery import build\n",
    "    from google.oauth2.credentials import Credentials\n",
    "\n",
    "    creds = Credentials.from_authorized_user_file('token.json')\n",
    "    service = build('calendar', 'v3', credentials=creds)\n",
    "\n",
    "    event = {\n",
    "        'summary': summary,\n",
    "        'start': {'dateTime': start_time, 'timeZone': 'Asia/Ho_Chi_Minh'},\n",
    "        'end': {'dateTime': end_time, 'timeZone': 'Asia/Ho_Chi_Minh'},\n",
    "    }\n",
    "\n",
    "    service.events().insert(calendarId='primary', body=event).execute()\n",
    "    return \"Sự kiện đã được tạo.\"\n"
   ]
  },
  {
   "cell_type": "code",
   "execution_count": null,
   "id": "a2795db5",
   "metadata": {},
   "outputs": [],
   "source": [
    "from langchain.agents import Tool, initialize_agent, AgentType\n",
    "\n",
    "tools = [\n",
    "    Tool(\n",
    "        name=\"ReadEmails\",\n",
    "        func=read_emails,\n",
    "        description=\"Dùng để đọc 5 email mới nhất từ hộp thư. Email đầu tiên là email mới nhất\"\n",
    "    ),\n",
    "    Tool(\n",
    "        name=\"SendEmail\",\n",
    "        func= send_email,\n",
    "        description='Gửi email với chủ đề và nội dung cho một người nhận. Với định dạng {{ \"to\": \"email1,email2\", \"subject\": \"subject\", \"body\": \"body\" }} email1,email2 là danh sách email'\n",
    "    ),\n",
    "    Tool(\n",
    "        name=\"CreateEvent\",\n",
    "        func=lambda x: create_calendar_event(\"Cuộc họp với team\", \"2025-07-08T10:00:00\", \"2025-07-08T11:00:00\"),\n",
    "        description=\"Tạo sự kiện lên lịch với tiêu đề, giờ bắt đầu và kết thúc.\"\n",
    "    ),\n",
    "    Tool(\n",
    "        name=\"Search\"\n",
    "        func = \n",
    "        des = 'Dùng để check phòng nào còn trống'\n",
    "    )\n",
    "]\n",
    "agent = initialize_agent(\n",
    "    tools=tools,\n",
    "    llm=llm,\n",
    "    agent=AgentType.ZERO_SHOT_REACT_DESCRIPTION,\n",
    "    verbose=True,\n",
    "    max_iterations=5\n",
    ")"
   ]
  },
  {
   "cell_type": "code",
   "execution_count": null,
   "id": "f372be6e",
   "metadata": {},
   "outputs": [],
   "source": [
    "message = 'hi'\n",
    "summary='ngiuowiif dùng đã abc'\n",
    "prompt = f'''\n",
    "Bạn đóng vai trò là  1 trợ lý ảo\n",
    "{summary}\n",
    "{message}\n",
    "'''"
   ]
  },
  {
   "cell_type": "code",
   "execution_count": 78,
   "id": "427cdee3",
   "metadata": {},
   "outputs": [
    {
     "name": "stdout",
     "output_type": "stream",
     "text": [
      "\n",
      "\n",
      "\u001b[1m> Entering new AgentExecutor chain...\u001b[0m\n",
      "\u001b[32;1m\u001b[1;3mĐể trả lời câu hỏi này, tôi cần gửi một email cho hai địa chỉ email đã cho với nội dung yêu cầu.\n",
      "\n",
      "Action: SendEmail\n",
      "Action Input: {\"to\": \"n21dccn069@student.ptithcm.edu.vn,n21dccn075@student.ptithcm.edu.vn\", \"subject\": \"Lựa chọn model\", \"body\": \"Lựa lẹ con model nào đi không đuổi việc. Trừ lương\"}\u001b[0m✅ Đã gửi email qua Gmail.\n",
      "\n",
      "Observation: \u001b[33;1m\u001b[1;3mĐã gửi email email thành công tới người nhận n21dccn069@student.ptithcm.edu.vn,n21dccn075@student.ptithcm.edu.vn với nội dung Lựa lẹ con model nào đi không đuổi việc. Trừ lương.\u001b[0m\n",
      "Thought:\u001b[32;1m\u001b[1;3mTôi đã gửi email thành công tới người nhận với nội dung yêu cầu.\n",
      "\n",
      "Thought: Tôi không cần thực hiện thêm bất kỳ hành động nào vì đã gửi email thành công.\n",
      "\n",
      "Final Answer: Đã gửi email thành công tới người nhận n21dccn069@student.ptithcm.edu.vn,n21dccn075@student.ptithcm.edu.vn với nội dung Lựa lẹ con model nào đi không đuổi việc. Trừ lương.\u001b[0m\n",
      "\n",
      "\u001b[1m> Finished chain.\u001b[0m\n"
     ]
    },
    {
     "data": {
      "text/plain": [
       "'Đã gửi email thành công tới người nhận n21dccn069@student.ptithcm.edu.vn,n21dccn075@student.ptithcm.edu.vn với nội dung Lựa lẹ con model nào đi không đuổi việc. Trừ lương.'"
      ]
     },
     "execution_count": 78,
     "metadata": {},
     "output_type": "execute_result"
    }
   ],
   "source": [
    "agent.run(\"gửi cho n21dccn069@student.ptithcm.edu.vn và n21dccn075@student.ptithcm.edu.vn nói rằng lựa lẹ con model nào đi không đuổi việc. trừ lương\")"
   ]
  },
  {
   "cell_type": "markdown",
   "id": "2134d0e9",
   "metadata": {},
   "source": [
    "web -> java -> đặt lịch ->\n",
    "    <-       api call back"
   ]
  },
  {
   "cell_type": "code",
   "execution_count": null,
   "id": "c7f92c65",
   "metadata": {},
   "outputs": [],
   "source": [
    "api/v1/datphong\n",
    "api/v1/huyphong\n",
    "message\n",
    "gọi lại đặt phòng\n",
    "api tìm phòng trống\n",
    "lưu Chat\n",
    "web<-api callback <-agent"
   ]
  },
  {
   "cell_type": "code",
   "execution_count": null,
   "id": "2bb0d4f9",
   "metadata": {},
   "outputs": [],
   "source": [
    "Emmiter "
   ]
  }
 ],
 "metadata": {
  "kernelspec": {
   "display_name": ".venv",
   "language": "python",
   "name": "python3"
  },
  "language_info": {
   "codemirror_mode": {
    "name": "ipython",
    "version": 3
   },
   "file_extension": ".py",
   "mimetype": "text/x-python",
   "name": "python",
   "nbconvert_exporter": "python",
   "pygments_lexer": "ipython3",
   "version": "3.12.9"
  }
 },
 "nbformat": 4,
 "nbformat_minor": 5
}
