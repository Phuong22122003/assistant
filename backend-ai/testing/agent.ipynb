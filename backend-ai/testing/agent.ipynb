{
 "cells": [
  {
   "cell_type": "code",
   "execution_count": 2,
   "id": "36aa5dd1",
   "metadata": {},
   "outputs": [],
   "source": [
    "# pip install langchain"
   ]
  },
  {
   "cell_type": "code",
   "execution_count": 3,
   "id": "b45497d9",
   "metadata": {},
   "outputs": [],
   "source": [
    "# %pip install --upgrade langchain-together"
   ]
  },
  {
   "cell_type": "code",
   "execution_count": 4,
   "id": "d0ae3429",
   "metadata": {},
   "outputs": [],
   "source": [
    "from langchain_together import ChatTogether\n",
    "from langchain.schema import HumanMessage\n",
    "import json\n",
    "from langchain.agents import Tool, initialize_agent, AgentType\n"
   ]
  },
  {
   "cell_type": "code",
   "execution_count": 5,
   "id": "9aa38788",
   "metadata": {},
   "outputs": [],
   "source": [
    "api_key = 'f3b01991e5fcf24a0e024c67791f79a4f676aa55188df99925dafe784e82c9cf'\n",
    "llm = ChatTogether(\n",
    "    together_api_key=api_key,\n",
    "    model=\"meta-llama/Llama-3.3-70B-Instruct-Turbo-Free\"  # hoặc bất kỳ model chat nào bạn chọn\n",
    ")\n"
   ]
  },
  {
   "cell_type": "code",
   "execution_count": 6,
   "id": "19cd4bb3",
   "metadata": {},
   "outputs": [],
   "source": [
    "def schedule_room_booking(data):\n",
    "    print(data)\n",
    "    return 'Book successfully'\n",
    "def check_room_available(data):\n",
    "    print(data)\n",
    "    return '''\n",
    "        room_id: 123\n",
    "    '''"
   ]
  },
  {
   "cell_type": "code",
   "execution_count": 7,
   "id": "0ed54508",
   "metadata": {},
   "outputs": [],
   "source": [
    "schedule_room_booking_prompt = '''\n",
    "This function use to booking room.\n",
    "Input with json format like:\n",
    "{{\n",
    "    room_id: 'room_id_value',\n",
    "    from: 'dd/mm/yyyy'\n",
    "    to: 'dd/mm/yyyy'\n",
    "}}\n",
    "Output is message notify if room is booked\n",
    "'''\n",
    "check_room_available_prompt = '''\n",
    "This function use to check when and what room is available.\n",
    "Input with json format like\n",
    "{{\n",
    "    from: 'dd/mm/yyyy',\n",
    "    to: 'dd/mm/yyyy'\n",
    "    \n",
    "}}\n",
    "ouput with json format like:\n",
    "{{\n",
    "    room_id: 'room_id_value'\n",
    "}}\n",
    "'''"
   ]
  },
  {
   "cell_type": "code",
   "execution_count": 8,
   "id": "a2795db5",
   "metadata": {},
   "outputs": [
    {
     "name": "stderr",
     "output_type": "stream",
     "text": [
      "C:\\Users\\admin\\AppData\\Local\\Temp\\ipykernel_18780\\3015613068.py:14: LangChainDeprecationWarning: LangChain agents will continue to be supported, but it is recommended for new use cases to be built with LangGraph. LangGraph offers a more flexible and full-featured framework for building agents, including support for tool-calling, persistence of state, and human-in-the-loop workflows. For details, refer to the `LangGraph documentation <https://langchain-ai.github.io/langgraph/>`_ as well as guides for `Migrating from AgentExecutor <https://python.langchain.com/docs/how_to/migrate_agent/>`_ and LangGraph's `Pre-built ReAct agent <https://langchain-ai.github.io/langgraph/how-tos/create-react-agent/>`_.\n",
      "  agent = initialize_agent(\n"
     ]
    }
   ],
   "source": [
    "\n",
    "tools = [\n",
    "    Tool(\n",
    "        name=\"ScheduleRoomBooking\",\n",
    "        func=schedule_room_booking,\n",
    "        description= schedule_room_booking_prompt \n",
    "    ),\n",
    "    Tool(\n",
    "        name=\"CheckRoom\",\n",
    "        func= check_room_available,\n",
    "        description= check_room_available_prompt\n",
    "        ),\n",
    "\n",
    "]\n",
    "agent = initialize_agent(\n",
    "    tools=tools,\n",
    "    llm=llm,\n",
    "    agent=AgentType.ZERO_SHOT_REACT_DESCRIPTION,\n",
    "    verbose=True,\n",
    "    max_iterations=5\n",
    ")"
   ]
  },
  {
   "cell_type": "code",
   "execution_count": 9,
   "id": "f372be6e",
   "metadata": {},
   "outputs": [],
   "source": [
    "prompt = f'''\n",
    "You are an assistant to help book room, check if room avalable. Conversation below is your chat with user.\n",
    "    User: I want to reserve a room today\n",
    "    Bot: \n",
    "'''"
   ]
  },
  {
   "cell_type": "code",
   "execution_count": 10,
   "id": "427cdee3",
   "metadata": {},
   "outputs": [
    {
     "name": "stdout",
     "output_type": "stream",
     "text": [
      "\n",
      "\n",
      "\u001b[1m> Entering new AgentExecutor chain...\u001b[0m\n",
      "\u001b[32;1m\u001b[1;3mTo assist the user in reserving a room for today, I first need to check which rooms are available for today. This involves using the CheckRoom function to see what rooms can be booked for the current date.\n",
      "\n",
      "Action: CheckRoom\n",
      "Action Input: {\n",
      "    from: 'current_date',\n",
      "    to: 'current_date'\n",
      "}\u001b[0m{\n",
      "    from: 'current_date',\n",
      "    to: 'current_date'\n",
      "}\n",
      "\n",
      "Observation: \u001b[33;1m\u001b[1;3m\n",
      "        room_id: 123\n",
      "    \u001b[0m\n",
      "Thought:\u001b[32;1m\u001b[1;3mSince the CheckRoom function has provided a room_id (123) that is available for today, I can now assist the user in booking this room. To confirm the booking, I will use the ScheduleRoomBooking function with the available room_id and the current date as the from and to dates.\n",
      "\n",
      "Action: ScheduleRoomBooking\n",
      "Action Input: {\n",
      "    room_id: '123',\n",
      "    from: 'current_date',\n",
      "    to: 'current_date'\n",
      "}\u001b[0m{\n",
      "    room_id: '123',\n",
      "    from: 'current_date',\n",
      "    to: 'current_date'\n",
      "}\n",
      "\n",
      "Observation: \u001b[36;1m\u001b[1;3mBook successfully\u001b[0m\n",
      "Thought:\u001b[32;1m\u001b[1;3mI now know the final answer\n",
      "Final Answer: Your room with id 123 has been booked successfully for today.\u001b[0m\n",
      "\n",
      "\u001b[1m> Finished chain.\u001b[0m\n"
     ]
    },
    {
     "data": {
      "text/plain": [
       "{'input': '\\nYou are an assistant to help book room, check if room avalable. Conversation below is your chat with user.\\n    User: I want to reserve a room today\\n    Bot: \\n',\n",
       " 'output': 'Your room with id 123 has been booked successfully for today.'}"
      ]
     },
     "execution_count": 10,
     "metadata": {},
     "output_type": "execute_result"
    }
   ],
   "source": [
    "agent.invoke(prompt)"
   ]
  },
  {
   "cell_type": "code",
   "execution_count": 4,
   "id": "6a7c2c8e",
   "metadata": {},
   "outputs": [
    {
     "name": "stdout",
     "output_type": "stream",
     "text": [
      "Danh sách phòng:\n",
      "{'statusCode': 1000, 'message': 'Get all rooms successfully', 'data': [{'name': '2B21', 'location': 'Qu?n 9', 'capacity': 50}]}\n"
     ]
    }
   ],
   "source": [
    "import requests\n",
    "\n",
    "def get_all_rooms(jwt_token: str):\n",
    "    url = \"http://localhost:8080/rooms/all\"  # Đổi URL này thành URL thật của bạn\n",
    "\n",
    "    headers = {\n",
    "        \"Authorization\": f\"Bearer {jwt_token}\",\n",
    "        # \"Accept\": \"application/json\"\n",
    "    }\n",
    "\n",
    "    try:\n",
    "        response = requests.get(url, headers=headers)\n",
    "        response.raise_for_status()  # raise nếu HTTP status >= 400\n",
    "        return response.json()  # trả về dữ liệu JSON từ server\n",
    "    except requests.exceptions.HTTPError as errh:\n",
    "        print(\"HTTP Error:\", errh)\n",
    "    except requests.exceptions.ConnectionError as errc:\n",
    "        print(\"Connection Error:\", errc)\n",
    "    except requests.exceptions.Timeout as errt:\n",
    "        print(\"Timeout Error:\", errt)\n",
    "    except requests.exceptions.RequestException as err:\n",
    "        print(\"Other Error:\", err)\n",
    "\n",
    "    return None  # Nếu có lỗi\n",
    "if __name__ == \"__main__\":\n",
    "    # Token thật từ Redis hoặc Keycloak\n",
    "    token = \"eyJhbGciOiJSUzI1NiIsInR5cCIgOiAiSldUIiwia2lkIiA6ICJGeldUN3dja0U5dzVraWRmV180Q0ZLRnB4NlFEV2dkdS1uY0hvcUNRZTBVIn0.eyJleHAiOjE3NTM0MDkwMTcsImlhdCI6MTc1MzM3MzAxNywianRpIjoib25ydHJvOjE4Njk5Y2Q2LWE1YWMtNGViYS0yZWY4LTJjYjc4MGE1YjM3MCIsImlzcyI6Imh0dHA6Ly9sb2NhbGhvc3Q6ODA4MS9yZWFsbXMvVXNlclNjaGVkdWxlIiwiYXVkIjoiYWNjb3VudCIsInN1YiI6IjNjM2FlMWM2LTdjOTItNDFmMi1hMjY5LTM4YmY4ZThlMmZkZiIsInR5cCI6IkJlYXJlciIsImF6cCI6InVzZXJfc2NoZWR1bGUiLCJzaWQiOiIyM2Y5NjcwZC02MmI0LTQ3NGQtYmU0Zi02ZmFiMzIxNzk3YzkiLCJhY3IiOiIxIiwiYWxsb3dlZC1vcmlnaW5zIjpbIioiXSwicmVhbG1fYWNjZXNzIjp7InJvbGVzIjpbIm9mZmxpbmVfYWNjZXNzIiwiTUFOQUdFUiIsInVtYV9hdXRob3JpemF0aW9uIiwiQURNSU4iLCJVU0VSIiwiZGVmYXVsdC1yb2xlcy11c2Vyc2NoZWR1bGUiXX0sInJlc291cmNlX2FjY2VzcyI6eyJhY2NvdW50Ijp7InJvbGVzIjpbIm1hbmFnZS1hY2NvdW50IiwibWFuYWdlLWFjY291bnQtbGlua3MiLCJ2aWV3LXByb2ZpbGUiXX19LCJzY29wZSI6Im9wZW5pZCBlbWFpbCBwcm9maWxlIiwiZW1haWxfdmVyaWZpZWQiOmZhbHNlLCJuYW1lIjoiYWRtaW4gYWRtaW4iLCJwcmVmZXJyZWRfdXNlcm5hbWUiOiJhZG1pbjEiLCJnaXZlbl9uYW1lIjoiYWRtaW4iLCJmYW1pbHlfbmFtZSI6ImFkbWluIiwiZW1haWwiOiJhYmNAZ21haWwuY29tIn0.NHUr3CYtz3h9aR7uzVpgWYe-o3l2gTAn2PKjWuM4qFiOL6jX00ck_zM5_p7c_yZZRqb23_YnagkWx_QPKkcH2e-xKJdmiQUaz1pwvLc-0f9YDWr5J83VOv-sdF03rkGOjLjMTNkYqfDHWgcOTGjRqgI7O2AxjudrdKOdPh0CsbTp2-hwIqUQ_UCpmz4P2rnde5gEIhk_eglFwmZ5-UWpH2B0ZUEvtEBkLeGDGEXVbX7IwsNcUAY5jelD1eYxLkAjNz6Padxza821K_oYQSzDeIF-iXOPjsRrIdwTvgvXc-E5he3neyHOO-oRAT2JvFEbZqYqO4u91msdmuqT1YNXxQ\"  # cắt ngắn\n",
    "\n",
    "    result = get_all_rooms(token)\n",
    "    if result:\n",
    "        print(\"Danh sách phòng:\")\n",
    "        print(result)\n",
    "    else:\n",
    "        print(\"Không thể lấy danh sách phòng.\")\n"
   ]
  }
 ],
 "metadata": {
  "kernelspec": {
   "display_name": ".venv",
   "language": "python",
   "name": "python3"
  },
  "language_info": {
   "codemirror_mode": {
    "name": "ipython",
    "version": 3
   },
   "file_extension": ".py",
   "mimetype": "text/x-python",
   "name": "python",
   "nbconvert_exporter": "python",
   "pygments_lexer": "ipython3",
   "version": "3.12.9"
  }
 },
 "nbformat": 4,
 "nbformat_minor": 5
}
